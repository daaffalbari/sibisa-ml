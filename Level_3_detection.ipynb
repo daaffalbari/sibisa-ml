{
  "cells": [
    {
      "cell_type": "code",
      "execution_count": null,
      "metadata": {
        "id": "zWZCAvvjPzki"
      },
      "outputs": [],
      "source": [
        "%tensorflow_version 2.x\n",
        "import tensorflow as tf\n",
        "device_name = tf.test.gpu_device_name()\n",
        "if device_name != '/device:GPU:0':\n",
        "  raise SystemError('GPU device not found')\n",
        "print('Found GPU at: {}'.format(device_name))"
      ]
    },
    {
      "cell_type": "code",
      "execution_count": null,
      "metadata": {
        "id": "oeyP0aYes9Zs"
      },
      "outputs": [],
      "source": [
        "# import tensorflow as tf\n",
        "# from keras.layers import LayerNormalization\n",
        "print(tf.__version__)"
      ]
    },
    {
      "cell_type": "markdown",
      "metadata": {
        "id": "yrrSLJ9UsKcc"
      },
      "source": [
        "## Clone Git Vocal"
      ]
    },
    {
      "cell_type": "code",
      "execution_count": null,
      "metadata": {
        "id": "8KvJN14ysM0V"
      },
      "outputs": [],
      "source": [
        "!git clone https://github.com/xxichlas/explore-level3 # The github repo from our ML members, this is the same repo as the one in https://github.com/SIBISA-github/sibisa-ml"
      ]
    },
    {
      "cell_type": "markdown",
      "metadata": {
        "id": "DEGpXLl3tQVX"
      },
      "source": [
        "## **Cloning TFOD 2.0 Github**"
      ]
    },
    {
      "cell_type": "code",
      "execution_count": null,
      "metadata": {
        "id": "KpOCphlUsjnh"
      },
      "outputs": [],
      "source": [
        "cd /content/explore-level3"
      ]
    },
    {
      "cell_type": "code",
      "execution_count": null,
      "metadata": {
        "id": "cbt3jPIqsyRB"
      },
      "outputs": [],
      "source": [
        "cd Tensorflow"
      ]
    },
    {
      "cell_type": "code",
      "execution_count": null,
      "metadata": {
        "id": "kFkdXoEltLY9"
      },
      "outputs": [],
      "source": [
        "!git clone https://github.com/tensorflow/models.git"
      ]
    },
    {
      "cell_type": "code",
      "execution_count": null,
      "metadata": {
        "id": "aJ4YzpQ4tMlz"
      },
      "outputs": [],
      "source": [
        "pwd"
      ]
    },
    {
      "cell_type": "code",
      "execution_count": null,
      "metadata": {
        "id": "6ZwI0sTdtMsc"
      },
      "outputs": [],
      "source": [
        "cd models/research"
      ]
    },
    {
      "cell_type": "code",
      "execution_count": null,
      "metadata": {
        "id": "SK5RyNz9tMvZ"
      },
      "outputs": [],
      "source": [
        "pwd"
      ]
    },
    {
      "cell_type": "code",
      "execution_count": null,
      "metadata": {
        "id": "NozH3MfAtMyR"
      },
      "outputs": [],
      "source": [
        "!protoc object_detection/protos/*.proto --python_out=."
      ]
    },
    {
      "cell_type": "code",
      "execution_count": null,
      "metadata": {
        "id": "alOqL7ortM1F"
      },
      "outputs": [],
      "source": [
        "!git clone https://github.com/cocodataset/cocoapi.git\n"
      ]
    },
    {
      "cell_type": "code",
      "execution_count": null,
      "metadata": {
        "id": "0XRlMiuEtM4R"
      },
      "outputs": [],
      "source": [
        "cd cocoapi/PythonAPI"
      ]
    },
    {
      "cell_type": "code",
      "execution_count": null,
      "metadata": {
        "id": "PZ-xj6MUtM7U"
      },
      "outputs": [],
      "source": [
        "!make"
      ]
    },
    {
      "cell_type": "code",
      "execution_count": null,
      "metadata": {
        "id": "A5Qr7ACCtM_b"
      },
      "outputs": [],
      "source": [
        "cp -r pycocotools /content/explore-level3/Tensorflow/models/research"
      ]
    },
    {
      "cell_type": "markdown",
      "metadata": {
        "id": "rLq79dR0uQFt"
      },
      "source": [
        "### Install the Object Detection API"
      ]
    },
    {
      "cell_type": "code",
      "execution_count": null,
      "metadata": {
        "id": "DM2bgHvLtNFt"
      },
      "outputs": [],
      "source": [
        "cd .."
      ]
    },
    {
      "cell_type": "code",
      "execution_count": null,
      "metadata": {
        "id": "MZouxA5TuWgV"
      },
      "outputs": [],
      "source": [
        "cd .. "
      ]
    },
    {
      "cell_type": "code",
      "execution_count": null,
      "metadata": {
        "id": "WZXnt_1w34Tw"
      },
      "outputs": [],
      "source": [
        "pwd"
      ]
    },
    {
      "cell_type": "code",
      "execution_count": null,
      "metadata": {
        "id": "Q635Jl58uWjI"
      },
      "outputs": [],
      "source": [
        "cp object_detection/packages/tf2/setup.py ."
      ]
    },
    {
      "cell_type": "code",
      "execution_count": null,
      "metadata": {
        "id": "GgV1yXUNK0fE"
      },
      "outputs": [],
      "source": [
        "## IMPORTANT \n",
        "## Because of the TF 2.9.0 update, TF OD currently doesn't work well with that version\n",
        "## To solver this, before running the next cell\n",
        "## go to the setup.py in /content/explore-vocal-phone/Tensorflow/models/research/setup.py from the files icon in the left pane\n",
        "## and then change the files with this pastebin code https://pastebin.com/KCg6uK0h\n",
        "## After that run the next cell TWO TIMES \n"
      ]
    },
    {
      "cell_type": "code",
      "execution_count": null,
      "metadata": {
        "id": "ZyrPaXSxuWmI"
      },
      "outputs": [],
      "source": [
        "!python -m pip install . #RUN 2 KALI BIAR KE INSTALL SEMUA"
      ]
    },
    {
      "cell_type": "code",
      "execution_count": null,
      "metadata": {
        "id": "cjlR4lsmuWpE"
      },
      "outputs": [],
      "source": [
        "# Test the API, From within TensorFlow/models/research/, you can skip this \n",
        "!python object_detection/builders/model_builder_tf2_test.py"
      ]
    },
    {
      "cell_type": "code",
      "execution_count": null,
      "metadata": {
        "id": "rP8s5SAM59Ga"
      },
      "outputs": [],
      "source": [
        "# Downgrade opencv, neccesary\n",
        "!pip uninstall opencv-python-headless==4.5.5.64\n",
        "! pip install opencv-python-headless==4.5.2.52"
      ]
    },
    {
      "cell_type": "markdown",
      "metadata": {
        "id": "OHWYU3WOuYnD"
      },
      "source": [
        "## Setup Path "
      ]
    },
    {
      "cell_type": "code",
      "execution_count": null,
      "metadata": {
        "id": "l1Ay2BBIuatw"
      },
      "outputs": [],
      "source": [
        "pwd"
      ]
    },
    {
      "cell_type": "code",
      "execution_count": null,
      "metadata": {
        "id": "aEgrHYHWud62"
      },
      "outputs": [],
      "source": [
        "cd .."
      ]
    },
    {
      "cell_type": "code",
      "execution_count": null,
      "metadata": {
        "id": "fMRBtx59ui4l"
      },
      "outputs": [],
      "source": [
        "cd .."
      ]
    },
    {
      "cell_type": "code",
      "execution_count": null,
      "metadata": {
        "id": "4eCI1o-Zuk0J"
      },
      "outputs": [],
      "source": [
        "cd /content/explore-level3/Tensorflow/workspace"
      ]
    },
    {
      "cell_type": "code",
      "execution_count": null,
      "metadata": {
        "id": "B9AwddUeLZ0F"
      },
      "outputs": [],
      "source": [
        "!mkdir models\n",
        "!mkdir annotations"
      ]
    },
    {
      "cell_type": "code",
      "execution_count": null,
      "metadata": {
        "id": "Y70qPdvALOOu"
      },
      "outputs": [],
      "source": [
        "cd /content/explore-level3"
      ]
    },
    {
      "cell_type": "code",
      "execution_count": null,
      "metadata": {
        "id": "c2FvYsIwuhzg"
      },
      "outputs": [],
      "source": [
        "WORKSPACE_PATH = 'Tensorflow/workspace'\n",
        "SCRIPTS_PATH = 'Tensorflow/scripts'\n",
        "APIMODEL_PATH = 'Tensorflow/models'\n",
        "ANNOTATION_PATH = WORKSPACE_PATH+'/annotations'\n",
        "IMAGE_PATH = WORKSPACE_PATH+'/images'\n",
        "MODEL_PATH = WORKSPACE_PATH+'/models'\n",
        "PRETRAINED_MODEL_PATH = WORKSPACE_PATH+'/pre-trained-models'\n",
        "CONFIG_PATH = MODEL_PATH+'/my_ssd_mobnet/pipeline.config'\n",
        "CHECKPOINT_PATH = MODEL_PATH+'/my_ssd_mobnet/'"
      ]
    },
    {
      "cell_type": "markdown",
      "metadata": {
        "id": "cgLzD_Ewu8LT"
      },
      "source": [
        "## Create Label Map"
      ]
    },
    {
      "cell_type": "code",
      "execution_count": null,
      "metadata": {
        "id": "bHr0o8xnvAa6"
      },
      "outputs": [],
      "source": [
        "## Check the /content/explore-vocal-phone/Tensorflow/workspace/annotations\n",
        "## If there's an existing label_map.pbtxt, just deleted the file first and then run this cell\n",
        "labels = [\n",
        "    {'name':'A', 'id':1}, \n",
        "    {'name':'I', 'id':2},\n",
        "    {'name':'aku', 'id':3},\n",
        "    {'name':'bicara', 'id':4},\n",
        "    {'name':'kamu', 'id':5}\n",
        "    ]\n",
        "\n",
        "with open(ANNOTATION_PATH + '/label_map.pbtxt', 'w') as f:\n",
        "    for label in labels:\n",
        "        f.write('item { \\n')\n",
        "        f.write('\\tname:\\'{}\\'\\n'.format(label['name']))\n",
        "        f.write('\\tid:{}\\n'.format(label['id']))\n",
        "        f.write('}\\n')"
      ]
    },
    {
      "cell_type": "markdown",
      "metadata": {
        "id": "nRqSq6_kvtaL"
      },
      "source": [
        "## Create TF Records"
      ]
    },
    {
      "cell_type": "code",
      "execution_count": null,
      "metadata": {
        "id": "8cLDQhvpvu9S"
      },
      "outputs": [],
      "source": [
        "!python {SCRIPTS_PATH + '/generate_tfrecord.py'} -x {IMAGE_PATH + '/train'} -l {ANNOTATION_PATH + '/label_map.pbtxt'} -o {ANNOTATION_PATH + '/train.record'}\n",
        "!python {SCRIPTS_PATH + '/generate_tfrecord.py'} -x{IMAGE_PATH + '/test'} -l {ANNOTATION_PATH + '/label_map.pbtxt'} -o {ANNOTATION_PATH + '/test.record'}"
      ]
    },
    {
      "cell_type": "markdown",
      "metadata": {
        "id": "GwNtRr10v50W"
      },
      "source": [
        "## Copy Model Config to Training Folder\n"
      ]
    },
    {
      "cell_type": "code",
      "execution_count": null,
      "metadata": {
        "id": "AFeK_R_OwCqS"
      },
      "outputs": [],
      "source": [
        "CUSTOM_MODEL_NAME = 'my_ssd_mobnet' "
      ]
    },
    {
      "cell_type": "code",
      "execution_count": null,
      "metadata": {
        "id": "2tjLigVeqLs1"
      },
      "outputs": [],
      "source": [
        "# Check if the /content/explore-vocal-phone/Tensorflow/workspace/models has files in it\n",
        "# if exists, run this cell, if empty just run the next one\n",
        "!rm -r /content/explore-level3/Tensorflow/workspace/models/my_ssd_mobnet/*"
      ]
    },
    {
      "cell_type": "code",
      "execution_count": null,
      "metadata": {
        "id": "cCkwjRDawIi6"
      },
      "outputs": [],
      "source": [
        "!mkdir {'Tensorflow/workspace/models/'+CUSTOM_MODEL_NAME}\n",
        "!cp {PRETRAINED_MODEL_PATH+'/ssd_mobilenet_v2_fpnlite_320x320_coco17_tpu-8/pipeline.config'} {MODEL_PATH+'/'+CUSTOM_MODEL_NAME}"
      ]
    },
    {
      "cell_type": "markdown",
      "metadata": {
        "id": "Qqzy72EowsfU"
      },
      "source": [
        "## Update Config"
      ]
    },
    {
      "cell_type": "code",
      "execution_count": null,
      "metadata": {
        "id": "7bZP9AMiwv5w"
      },
      "outputs": [],
      "source": [
        "import tensorflow as tf\n",
        "from object_detection.utils import config_util\n",
        "from object_detection.protos import pipeline_pb2\n",
        "from google.protobuf import text_format"
      ]
    },
    {
      "cell_type": "code",
      "execution_count": null,
      "metadata": {
        "id": "qA1YjwAMwy1z"
      },
      "outputs": [],
      "source": [
        "CONFIG_PATH = MODEL_PATH+'/'+CUSTOM_MODEL_NAME+'/pipeline.config'"
      ]
    },
    {
      "cell_type": "code",
      "execution_count": null,
      "metadata": {
        "id": "i4Ylb6JUw187"
      },
      "outputs": [],
      "source": [
        "config = config_util.get_configs_from_pipeline_file(CONFIG_PATH)"
      ]
    },
    {
      "cell_type": "code",
      "execution_count": null,
      "metadata": {
        "id": "t5CXFWX0w3Fr"
      },
      "outputs": [],
      "source": [
        "config"
      ]
    },
    {
      "cell_type": "code",
      "execution_count": null,
      "metadata": {
        "id": "dwtqjrHow5wO"
      },
      "outputs": [],
      "source": [
        "pipeline_config = pipeline_pb2.TrainEvalPipelineConfig()\n",
        "with tf.io.gfile.GFile(CONFIG_PATH, \"r\") as f:                                                                                                                                                                                                                     \n",
        "    proto_str = f.read()                                                                                                                                                                                                                                          \n",
        "    text_format.Merge(proto_str, pipeline_config)  "
      ]
    },
    {
      "cell_type": "code",
      "execution_count": null,
      "metadata": {
        "id": "30LSFiYxxVSb"
      },
      "outputs": [],
      "source": [
        "pipeline_config.model.ssd.num_classes = 5\n",
        "pipeline_config.train_config.batch_size = 4\n",
        "pipeline_config.train_config.fine_tune_checkpoint = PRETRAINED_MODEL_PATH+'/ssd_mobilenet_v2_fpnlite_320x320_coco17_tpu-8/checkpoint/ckpt-0'\n",
        "pipeline_config.train_config.fine_tune_checkpoint_type = \"detection\"\n",
        "pipeline_config.train_input_reader.label_map_path= ANNOTATION_PATH + '/label_map.pbtxt'\n",
        "pipeline_config.train_input_reader.tf_record_input_reader.input_path[:] = [ANNOTATION_PATH + '/train.record']\n",
        "pipeline_config.eval_input_reader[0].label_map_path = ANNOTATION_PATH + '/label_map.pbtxt'\n",
        "pipeline_config.eval_input_reader[0].tf_record_input_reader.input_path[:] = [ANNOTATION_PATH + '/test.record']"
      ]
    },
    {
      "cell_type": "code",
      "execution_count": null,
      "metadata": {
        "id": "NY15IB3txWdj"
      },
      "outputs": [],
      "source": [
        "config_text = text_format.MessageToString(pipeline_config)                                                                                                                                                                                                        \n",
        "with tf.io.gfile.GFile(CONFIG_PATH, \"wb\") as f:                                                                                                                                                                                                                     \n",
        "    f.write(config_text)   "
      ]
    },
    {
      "cell_type": "markdown",
      "metadata": {
        "id": "aLiNuULHxfGP"
      },
      "source": [
        "## Train Model"
      ]
    },
    {
      "cell_type": "code",
      "execution_count": null,
      "metadata": {
        "id": "MItGLVY3uWu8"
      },
      "outputs": [],
      "source": [
        "!python Tensorflow/models/research/object_detection/model_main_tf2.py --model_dir=Tensorflow/workspace/models/my_ssd_mobnet --pipeline_config_path=Tensorflow/workspace/models/my_ssd_mobnet/pipeline.config --num_train_steps=20000\n"
      ]
    },
    {
      "cell_type": "code",
      "execution_count": null,
      "metadata": {
        "id": "_jLR5sTGLyhX"
      },
      "outputs": [],
      "source": [
        "# Load the TensorBoard notebook extension\n",
        "%load_ext tensorboard\n",
        "import datetime, os\n",
        "tensorboard --logdir=/content/explore-kata-phone/Tensorflow/workspace/models/my_ssd_mobnet"
      ]
    },
    {
      "cell_type": "code",
      "execution_count": null,
      "metadata": {
        "id": "eiw38vNlw5G_"
      },
      "outputs": [],
      "source": [
        "!zip -r /content/explore-level3/Tensorflow/workspace/models.zip /content/explore-level3/Tensorflow/workspace/models"
      ]
    },
    {
      "cell_type": "code",
      "execution_count": null,
      "metadata": {
        "id": "VuU6g4Ykwx5j"
      },
      "outputs": [],
      "source": [
        "pwd"
      ]
    },
    {
      "cell_type": "code",
      "execution_count": null,
      "metadata": {
        "id": "4tbssiPA5OD0"
      },
      "outputs": [],
      "source": [
        "!python /content/explore-level3/Tensorflow/models/research/object_detection/exporter_main_v2.py \\\n",
        "    --trained_checkpoint_dir /content/explore-level3/Tensorflow/workspace/models/my_ssd_mobnet \\\n",
        "    --output_directory /content/explore-level3/Tensorflow/workspace/saved \\\n",
        "    --pipeline_config_path /content/explore-level3/Tensorflow/workspace/models/my_ssd_mobnet/pipeline.config"
      ]
    },
    {
      "cell_type": "code",
      "execution_count": null,
      "metadata": {
        "id": "tzlPcDPLuWye"
      },
      "outputs": [],
      "source": [
        "!zip -r /content/explore-level3/Tensorflow/workspace/saved.zip /content/explore-level3/Tensorflow/workspace/saved"
      ]
    },
    {
      "cell_type": "code",
      "execution_count": null,
      "metadata": {
        "id": "xMNRUrwiO_3v"
      },
      "outputs": [],
      "source": [
        "!python /content/explore-level3/Tensorflow/models/research/object_detection/export_tflite_graph_tf2.py \\\n",
        "    --trained_checkpoint_dir /content/explore-level3/Tensorflow/workspace/models/my_ssd_mobnet \\\n",
        "    --output_directory /content/explore-level3/Tensorflow/workspace/Graph \\\n",
        "    --pipeline_config_path /content/explore-level3/Tensorflow/workspace/models/my_ssd_mobnet/pipeline.config"
      ]
    },
    {
      "cell_type": "code",
      "execution_count": null,
      "metadata": {
        "id": "jUKEWCAy6J2p"
      },
      "outputs": [],
      "source": [
        "!zip -r /content/explore-level3/Tensorflow/workspace/graph.zip /content/explore-level3/Tensorflow/workspace/Graph"
      ]
    },
    {
      "cell_type": "markdown",
      "metadata": {
        "id": "Dho8xkuEAHc8"
      },
      "source": [
        "### Convert to TFlite"
      ]
    },
    {
      "cell_type": "code",
      "execution_count": null,
      "metadata": {
        "id": "dknxgZwPBYfE"
      },
      "outputs": [],
      "source": [
        "!pip install tflite-support-nightly\n"
      ]
    },
    {
      "cell_type": "code",
      "execution_count": null,
      "metadata": {
        "id": "hUVDQGAyKpV_"
      },
      "outputs": [],
      "source": [
        "!sudo apt-get install libportaudio2\n"
      ]
    },
    {
      "cell_type": "code",
      "execution_count": null,
      "metadata": {
        "id": "-t8b-ZdjK-i5"
      },
      "outputs": [],
      "source": [
        "pip install --upgrade flatbuffers==1.12\n"
      ]
    },
    {
      "cell_type": "code",
      "execution_count": null,
      "metadata": {
        "id": "ks9ku4oNAKqb"
      },
      "outputs": [],
      "source": [
        "import matplotlib\n",
        "import matplotlib.pyplot as plt\n",
        "\n",
        "import os\n",
        "import random\n",
        "import io\n",
        "import imageio\n",
        "import glob\n",
        "import scipy.misc\n",
        "import numpy as np\n",
        "from six import BytesIO\n",
        "from PIL import Image, ImageDraw, ImageFont\n",
        "from IPython.display import display, Javascript\n",
        "from IPython.display import Image as IPyImage\n",
        "\n",
        "import tensorflow as tf\n",
        "\n",
        "from object_detection.utils import label_map_util\n",
        "from object_detection.utils import config_util\n",
        "from object_detection.utils import visualization_utils as viz_utils\n",
        "from object_detection.utils import colab_utils\n",
        "from object_detection.utils import config_util\n",
        "from object_detection.builders import model_builder\n",
        "\n",
        "from tflite_support import flatbuffers\n",
        "from tflite_support import flatbuffers\n",
        "from tflite_support import metadata as _metadata\n",
        "from tflite_support import metadata_schema_py_generated as _metadata_fb\n",
        "\n",
        "%matplotlib inline"
      ]
    },
    {
      "cell_type": "code",
      "execution_count": null,
      "metadata": {
        "id": "8zcg_gMgAbP8"
      },
      "outputs": [],
      "source": [
        "_TFLITE_MODEL_PATH = \"/content/explore-level3/Tensorflow/workspace/model.tflite\"\n",
        "saved_model_dir = '/content/explore-level3/Tensorflow/workspace/Graph/saved_model'\n",
        "\n",
        "converter = tf.lite.TFLiteConverter.from_saved_model(saved_model_dir)\n",
        "converter.optimizations = [tf.lite.Optimize.DEFAULT]\n",
        "tflite_model = converter.convert()\n",
        "\n",
        "with open(_TFLITE_MODEL_PATH, 'wb') as f:\n",
        "  f.write(tflite_model)"
      ]
    },
    {
      "cell_type": "code",
      "execution_count": null,
      "metadata": {
        "id": "XN0c0iNtAZVO"
      },
      "outputs": [],
      "source": [
        "_ODT_LABEL_MAP_PATH = '/content/explore-level3/Tensorflow/workspace/annotations/label_map.pbtxt'\n",
        "_TFLITE_LABEL_PATH = \"/content/explore-level3/Tensorflow/workspace/tflite_label_map.txt\"\n",
        "\n",
        "category_index = label_map_util.create_category_index_from_labelmap(\n",
        "    _ODT_LABEL_MAP_PATH)\n",
        "f = open(_TFLITE_LABEL_PATH, 'w')\n",
        "for class_id in range(1, 6):\n",
        "  if class_id not in category_index:\n",
        "    f.write('???\\n')\n",
        "    continue\n",
        "  name = category_index[class_id]['name']\n",
        "  f.write(name+'\\n')\n",
        "f.close()"
      ]
    },
    {
      "cell_type": "code",
      "execution_count": null,
      "metadata": {
        "id": "0e7-_Te6BPo1"
      },
      "outputs": [],
      "source": [
        "from tflite_support.metadata_writers import object_detector\n",
        "from tflite_support.metadata_writers import writer_utils\n",
        "\n",
        "_TFLITE_MODEL_WITH_METADATA_PATH = \"/content/explore-level3/Tensorflow/workspace/model_with_metadata.tflite\"\n",
        "\n",
        "writer = object_detector.MetadataWriter.create_for_inference(\n",
        "    writer_utils.load_file(_TFLITE_MODEL_PATH), input_norm_mean=[127.5], \n",
        "    input_norm_std=[127.5], label_file_paths=[_TFLITE_LABEL_PATH])\n",
        "writer_utils.save_file(writer.populate(), _TFLITE_MODEL_WITH_METADATA_PATH)"
      ]
    },
    {
      "cell_type": "code",
      "execution_count": null,
      "metadata": {
        "id": "gvL0C0a0OvbU"
      },
      "outputs": [],
      "source": [
        "from tflite_support import metadata\n",
        "\n",
        "displayer = metadata.MetadataDisplayer.with_model_file(_TFLITE_MODEL_WITH_METADATA_PATH)\n",
        "print(\"Metadata populated:\")\n",
        "print(displayer.get_metadata_json())\n",
        "print(\"=============================\")\n",
        "print(\"Associated file(s) populated:\")\n",
        "print(displayer.get_packed_associated_file_list())"
      ]
    },
    {
      "cell_type": "markdown",
      "metadata": {
        "id": "NfWUo2GUBRC2"
      },
      "source": [
        "### Download all outputs"
      ]
    },
    {
      "cell_type": "code",
      "execution_count": null,
      "metadata": {
        "id": "0D9v4xPohgSD"
      },
      "outputs": [],
      "source": [
        "from google.colab import files\n",
        "files.download('/content/explore-level3/Tensorflow/workspace/models.zip') "
      ]
    },
    {
      "cell_type": "code",
      "execution_count": null,
      "metadata": {
        "id": "B2OOYdwIhjA6"
      },
      "outputs": [],
      "source": [
        "from google.colab import files\n",
        "files.download('/content/explore-level3/Tensorflow/workspace/saved.zip') "
      ]
    },
    {
      "cell_type": "code",
      "execution_count": null,
      "metadata": {
        "id": "aX7VoTouhkOu"
      },
      "outputs": [],
      "source": [
        "from google.colab import files\n",
        "files.download('/content/explore-level3/Tensorflow/workspace/graph.zip') "
      ]
    },
    {
      "cell_type": "code",
      "execution_count": null,
      "metadata": {
        "id": "wNAmaKj4hmmK"
      },
      "outputs": [],
      "source": [
        "from google.colab import files\n",
        "files.download('/content/explore-level3/Tensorflow/workspace/model.tflite') "
      ]
    },
    {
      "cell_type": "code",
      "execution_count": null,
      "metadata": {
        "id": "h6UqSlW-MZy2"
      },
      "outputs": [],
      "source": [
        "from google.colab import files\n",
        "files.download('/content/explore-level3/Tensorflow/workspace/model_with_metadata.tflite') "
      ]
    }
  ],
  "metadata": {
    "accelerator": "GPU",
    "colab": {
      "collapsed_sections": [],
      "machine_shape": "hm",
      "name": "Level 3 detection",
      "private_outputs": true,
      "provenance": []
    },
    "kernelspec": {
      "display_name": "Python 3",
      "name": "python3"
    },
    "language_info": {
      "name": "python"
    }
  },
  "nbformat": 4,
  "nbformat_minor": 0
}
