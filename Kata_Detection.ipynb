{
  "nbformat": 4,
  "nbformat_minor": 0,
  "metadata": {
    "colab": {
      "name": "Kata Detection",
      "provenance": [],
      "machine_shape": "hm",
      "private_outputs": true
    },
    "kernelspec": {
      "name": "python3",
      "display_name": "Python 3"
    },
    "language_info": {
      "name": "python"
    },
    "accelerator": "GPU"
  },
  "cells": [
    {
      "cell_type": "code",
      "source": [
        "%tensorflow_version 2.x\n",
        "import tensorflow as tf\n",
        "device_name = tf.test.gpu_device_name()\n",
        "if device_name != '/device:GPU:0':\n",
        "  raise SystemError('GPU device not found')\n",
        "print('Found GPU at: {}'.format(device_name))"
      ],
      "metadata": {
        "id": "zWZCAvvjPzki"
      },
      "execution_count": null,
      "outputs": []
    },
    {
      "cell_type": "code",
      "metadata": {
        "id": "oeyP0aYes9Zs"
      },
      "source": [
        "# import tensorflow as tf\n",
        "# from keras.layers import LayerNormalization\n",
        "print(tf.__version__)"
      ],
      "execution_count": null,
      "outputs": []
    },
    {
      "cell_type": "markdown",
      "source": [
        "## Clone Git Vocal"
      ],
      "metadata": {
        "id": "yrrSLJ9UsKcc"
      }
    },
    {
      "cell_type": "code",
      "source": [
        "!git clone https://github.com/xxichlas/explore-kata-phone.git # The github repo from our ML members, this is the same repo as the one in https://github.com/SIBISA-github/sibisa-ml"
      ],
      "metadata": {
        "id": "8KvJN14ysM0V"
      },
      "execution_count": null,
      "outputs": []
    },
    {
      "cell_type": "markdown",
      "metadata": {
        "id": "DEGpXLl3tQVX"
      },
      "source": [
        "## **Cloning TFOD 2.0 Github**"
      ]
    },
    {
      "cell_type": "code",
      "source": [
        "cd /content/explore-kata-phone"
      ],
      "metadata": {
        "id": "KpOCphlUsjnh"
      },
      "execution_count": null,
      "outputs": []
    },
    {
      "cell_type": "code",
      "source": [
        "cd Tensorflow"
      ],
      "metadata": {
        "id": "cbt3jPIqsyRB"
      },
      "execution_count": null,
      "outputs": []
    },
    {
      "cell_type": "code",
      "metadata": {
        "id": "kFkdXoEltLY9"
      },
      "source": [
        "!git clone https://github.com/tensorflow/models.git"
      ],
      "execution_count": null,
      "outputs": []
    },
    {
      "cell_type": "code",
      "metadata": {
        "id": "aJ4YzpQ4tMlz"
      },
      "source": [
        "pwd"
      ],
      "execution_count": null,
      "outputs": []
    },
    {
      "cell_type": "code",
      "metadata": {
        "id": "6ZwI0sTdtMsc"
      },
      "source": [
        "cd models/research"
      ],
      "execution_count": null,
      "outputs": []
    },
    {
      "cell_type": "code",
      "metadata": {
        "id": "SK5RyNz9tMvZ"
      },
      "source": [
        "pwd"
      ],
      "execution_count": null,
      "outputs": []
    },
    {
      "cell_type": "code",
      "metadata": {
        "id": "NozH3MfAtMyR"
      },
      "source": [
        "!protoc object_detection/protos/*.proto --python_out=."
      ],
      "execution_count": null,
      "outputs": []
    },
    {
      "cell_type": "code",
      "metadata": {
        "id": "alOqL7ortM1F"
      },
      "source": [
        "!git clone https://github.com/cocodataset/cocoapi.git\n"
      ],
      "execution_count": null,
      "outputs": []
    },
    {
      "cell_type": "code",
      "metadata": {
        "id": "0XRlMiuEtM4R"
      },
      "source": [
        "cd cocoapi/PythonAPI"
      ],
      "execution_count": null,
      "outputs": []
    },
    {
      "cell_type": "code",
      "metadata": {
        "id": "PZ-xj6MUtM7U"
      },
      "source": [
        "!make"
      ],
      "execution_count": null,
      "outputs": []
    },
    {
      "cell_type": "code",
      "metadata": {
        "id": "A5Qr7ACCtM_b"
      },
      "source": [
        "cp -r pycocotools /content/explore-kata-phone/Tensorflow/models/research"
      ],
      "execution_count": null,
      "outputs": []
    },
    {
      "cell_type": "markdown",
      "metadata": {
        "id": "rLq79dR0uQFt"
      },
      "source": [
        "### Install the Object Detection API"
      ]
    },
    {
      "cell_type": "code",
      "metadata": {
        "id": "DM2bgHvLtNFt"
      },
      "source": [
        "cd .."
      ],
      "execution_count": null,
      "outputs": []
    },
    {
      "cell_type": "code",
      "metadata": {
        "id": "MZouxA5TuWgV"
      },
      "source": [
        "cd .. "
      ],
      "execution_count": null,
      "outputs": []
    },
    {
      "cell_type": "code",
      "source": [
        "pwd"
      ],
      "metadata": {
        "id": "WZXnt_1w34Tw"
      },
      "execution_count": null,
      "outputs": []
    },
    {
      "cell_type": "code",
      "metadata": {
        "id": "Q635Jl58uWjI"
      },
      "source": [
        "cp object_detection/packages/tf2/setup.py ."
      ],
      "execution_count": null,
      "outputs": []
    },
    {
      "cell_type": "code",
      "source": [
        "## IMPORTANT \n",
        "## Because of the TF 2.9.0 update, TF OD currently doesn't work well with that version\n",
        "## To solver this, before running the next cell\n",
        "## go to the setup.py in /content/explore-vocal-phone/Tensorflow/models/research/setup.py from the files icon in the left pane\n",
        "## and then change the files with this pastebin code https://pastebin.com/KCg6uK0h\n",
        "## After that run the next cell TWO TIMES \n"
      ],
      "metadata": {
        "id": "3BzqplBQI6jp"
      },
      "execution_count": null,
      "outputs": []
    },
    {
      "cell_type": "code",
      "metadata": {
        "id": "ZyrPaXSxuWmI"
      },
      "source": [
        "!python -m pip install . #RUN 2 TIMES"
      ],
      "execution_count": null,
      "outputs": []
    },
    {
      "cell_type": "code",
      "metadata": {
        "id": "cjlR4lsmuWpE"
      },
      "source": [
        "# Test the API, From within TensorFlow/models/research/, you can skip this \n",
        "!python object_detection/builders/model_builder_tf2_test.py"
      ],
      "execution_count": null,
      "outputs": []
    },
    {
      "cell_type": "code",
      "source": [
        "# Downgrade opencv, neccesary\n",
        "!pip uninstall opencv-python-headless==4.5.5.64\n",
        "! pip install opencv-python-headless==4.5.2.52"
      ],
      "metadata": {
        "id": "rP8s5SAM59Ga"
      },
      "execution_count": null,
      "outputs": []
    },
    {
      "cell_type": "markdown",
      "source": [
        "## Setup Path "
      ],
      "metadata": {
        "id": "OHWYU3WOuYnD"
      }
    },
    {
      "cell_type": "code",
      "source": [
        "pwd"
      ],
      "metadata": {
        "id": "l1Ay2BBIuatw"
      },
      "execution_count": null,
      "outputs": []
    },
    {
      "cell_type": "code",
      "source": [
        "cd .."
      ],
      "metadata": {
        "id": "aEgrHYHWud62"
      },
      "execution_count": null,
      "outputs": []
    },
    {
      "cell_type": "code",
      "source": [
        "cd /content/explore-kata-phone"
      ],
      "metadata": {
        "id": "4eCI1o-Zuk0J"
      },
      "execution_count": null,
      "outputs": []
    },
    {
      "cell_type": "code",
      "source": [
        "WORKSPACE_PATH = 'Tensorflow/workspace'\n",
        "SCRIPTS_PATH = 'Tensorflow/scripts'\n",
        "APIMODEL_PATH = 'Tensorflow/models'\n",
        "ANNOTATION_PATH = WORKSPACE_PATH+'/annotations'\n",
        "IMAGE_PATH = WORKSPACE_PATH+'/images'\n",
        "MODEL_PATH = WORKSPACE_PATH+'/models'\n",
        "PRETRAINED_MODEL_PATH = WORKSPACE_PATH+'/pre-trained-models'\n",
        "CONFIG_PATH = MODEL_PATH+'/my_ssd_mobnet/pipeline.config'\n",
        "CHECKPOINT_PATH = MODEL_PATH+'/my_ssd_mobnet/'"
      ],
      "metadata": {
        "id": "c2FvYsIwuhzg"
      },
      "execution_count": null,
      "outputs": []
    },
    {
      "cell_type": "markdown",
      "source": [
        "## Create Label Map"
      ],
      "metadata": {
        "id": "cgLzD_Ewu8LT"
      }
    },
    {
      "cell_type": "code",
      "source": [
        "## Check the /content/explore-vocal-phone/Tensorflow/workspace/annotations\n",
        "## If there's an existing label_map.pbtxt, just deleted the file first and then run this cell\n",
        "labels = [\n",
        "    {'name':'aku', 'id':1}, \n",
        "    {'name':'bicara', 'id':2},\n",
        "    {'name':'bisa', 'id':3},\n",
        "    {'name':'hai', 'id':4},\n",
        "    {'name':'kamu', 'id':5}\n",
        "    ]\n",
        "\n",
        "with open(ANNOTATION_PATH + '/label_map.pbtxt', 'w') as f:\n",
        "    for label in labels:\n",
        "        f.write('item { \\n')\n",
        "        f.write('\\tname:\\'{}\\'\\n'.format(label['name']))\n",
        "        f.write('\\tid:{}\\n'.format(label['id']))\n",
        "        f.write('}\\n')"
      ],
      "metadata": {
        "id": "bHr0o8xnvAa6"
      },
      "execution_count": null,
      "outputs": []
    },
    {
      "cell_type": "markdown",
      "source": [
        "## Create TF Records"
      ],
      "metadata": {
        "id": "nRqSq6_kvtaL"
      }
    },
    {
      "cell_type": "code",
      "source": [
        "!python {SCRIPTS_PATH + '/generate_tfrecord.py'} -x {IMAGE_PATH + '/train'} -l {ANNOTATION_PATH + '/label_map.pbtxt'} -o {ANNOTATION_PATH + '/train.record'}\n",
        "!python {SCRIPTS_PATH + '/generate_tfrecord.py'} -x{IMAGE_PATH + '/test'} -l {ANNOTATION_PATH + '/label_map.pbtxt'} -o {ANNOTATION_PATH + '/test.record'}"
      ],
      "metadata": {
        "id": "8cLDQhvpvu9S"
      },
      "execution_count": null,
      "outputs": []
    },
    {
      "cell_type": "markdown",
      "source": [
        "## Copy Model Config to Training Folder\n"
      ],
      "metadata": {
        "id": "GwNtRr10v50W"
      }
    },
    {
      "cell_type": "code",
      "source": [
        "CUSTOM_MODEL_NAME = 'my_ssd_mobnet' "
      ],
      "metadata": {
        "id": "AFeK_R_OwCqS"
      },
      "execution_count": null,
      "outputs": []
    },
    {
      "cell_type": "code",
      "source": [
        "# Check if the /content/explore-vocal-phone/Tensorflow/workspace/models has files in it\n",
        "# if exists, run this cell, if empty just run the next one\n",
        "!rm -r /content/explore-kata-phone/Tensorflow/workspace/models/my_ssd_mobnet/*"
      ],
      "metadata": {
        "id": "2tjLigVeqLs1"
      },
      "execution_count": null,
      "outputs": []
    },
    {
      "cell_type": "code",
      "source": [
        "# !mkdir {'Tensorflow/workspace/models/'+CUSTOM_MODEL_NAME}\n",
        "!cp {PRETRAINED_MODEL_PATH+'/ssd_mobilenet_v2_fpnlite_320x320_coco17_tpu-8/pipeline.config'} {MODEL_PATH+'/'+CUSTOM_MODEL_NAME}"
      ],
      "metadata": {
        "id": "cCkwjRDawIi6"
      },
      "execution_count": null,
      "outputs": []
    },
    {
      "cell_type": "markdown",
      "source": [
        "## Update Config"
      ],
      "metadata": {
        "id": "Qqzy72EowsfU"
      }
    },
    {
      "cell_type": "code",
      "source": [
        "import tensorflow as tf\n",
        "from object_detection.utils import config_util\n",
        "from object_detection.protos import pipeline_pb2\n",
        "from google.protobuf import text_format"
      ],
      "metadata": {
        "id": "7bZP9AMiwv5w"
      },
      "execution_count": null,
      "outputs": []
    },
    {
      "cell_type": "code",
      "source": [
        "CONFIG_PATH = MODEL_PATH+'/'+CUSTOM_MODEL_NAME+'/pipeline.config'"
      ],
      "metadata": {
        "id": "qA1YjwAMwy1z"
      },
      "execution_count": null,
      "outputs": []
    },
    {
      "cell_type": "code",
      "source": [
        "config = config_util.get_configs_from_pipeline_file(CONFIG_PATH)"
      ],
      "metadata": {
        "id": "i4Ylb6JUw187"
      },
      "execution_count": null,
      "outputs": []
    },
    {
      "cell_type": "code",
      "source": [
        "config"
      ],
      "metadata": {
        "id": "t5CXFWX0w3Fr"
      },
      "execution_count": null,
      "outputs": []
    },
    {
      "cell_type": "code",
      "source": [
        "pipeline_config = pipeline_pb2.TrainEvalPipelineConfig()\n",
        "with tf.io.gfile.GFile(CONFIG_PATH, \"r\") as f:                                                                                                                                                                                                                     \n",
        "    proto_str = f.read()                                                                                                                                                                                                                                          \n",
        "    text_format.Merge(proto_str, pipeline_config)  "
      ],
      "metadata": {
        "id": "dwtqjrHow5wO"
      },
      "execution_count": null,
      "outputs": []
    },
    {
      "cell_type": "code",
      "source": [
        "pipeline_config.model.ssd.num_classes = 5\n",
        "pipeline_config.train_config.batch_size = 4\n",
        "pipeline_config.train_config.fine_tune_checkpoint = PRETRAINED_MODEL_PATH+'/ssd_mobilenet_v2_fpnlite_320x320_coco17_tpu-8/checkpoint/ckpt-0'\n",
        "pipeline_config.train_config.fine_tune_checkpoint_type = \"detection\"\n",
        "pipeline_config.train_input_reader.label_map_path= ANNOTATION_PATH + '/label_map.pbtxt'\n",
        "pipeline_config.train_input_reader.tf_record_input_reader.input_path[:] = [ANNOTATION_PATH + '/train.record']\n",
        "pipeline_config.eval_input_reader[0].label_map_path = ANNOTATION_PATH + '/label_map.pbtxt'\n",
        "pipeline_config.eval_input_reader[0].tf_record_input_reader.input_path[:] = [ANNOTATION_PATH + '/test.record']"
      ],
      "metadata": {
        "id": "30LSFiYxxVSb"
      },
      "execution_count": null,
      "outputs": []
    },
    {
      "cell_type": "code",
      "source": [
        "config_text = text_format.MessageToString(pipeline_config)                                                                                                                                                                                                        \n",
        "with tf.io.gfile.GFile(CONFIG_PATH, \"wb\") as f:                                                                                                                                                                                                                     \n",
        "    f.write(config_text)   "
      ],
      "metadata": {
        "id": "NY15IB3txWdj"
      },
      "execution_count": null,
      "outputs": []
    },
    {
      "cell_type": "markdown",
      "source": [
        "## Train Model"
      ],
      "metadata": {
        "id": "aLiNuULHxfGP"
      }
    },
    {
      "cell_type": "code",
      "metadata": {
        "id": "MItGLVY3uWu8"
      },
      "source": [
        "!python Tensorflow/models/research/object_detection/model_main_tf2.py --model_dir=Tensorflow/workspace/models/my_ssd_mobnet --pipeline_config_path=Tensorflow/workspace/models/my_ssd_mobnet/pipeline.config --num_train_steps=20000\n"
      ],
      "execution_count": null,
      "outputs": []
    },
    {
      "cell_type": "code",
      "source": [
        "# Load the TensorBoard notebook extension\n",
        "%load_ext tensorboard\n",
        "import datetime, os\n",
        "tensorboard --logdir=/content/explore-kata-phone/Tensorflow/workspace/models/my_ssd_mobnet"
      ],
      "metadata": {
        "id": "tt3EIPhHcSS0"
      },
      "execution_count": null,
      "outputs": []
    },
    {
      "cell_type": "code",
      "source": [
        "!zip -r /content/explore-kata-phone/Tensorflow/workspace/models.zip /content/explore-kata-phone/Tensorflow/workspace/models"
      ],
      "metadata": {
        "id": "eiw38vNlw5G_"
      },
      "execution_count": null,
      "outputs": []
    },
    {
      "cell_type": "code",
      "source": [
        "pwd"
      ],
      "metadata": {
        "id": "VuU6g4Ykwx5j"
      },
      "execution_count": null,
      "outputs": []
    },
    {
      "cell_type": "code",
      "source": [
        "!python /content/explore-kata-phone/Tensorflow/models/research/object_detection/exporter_main_v2.py \\\n",
        "    --trained_checkpoint_dir /content/explore-kata-phone/Tensorflow/workspace/models/my_ssd_mobnet \\\n",
        "    --output_directory /content/explore-kata-phone/Tensorflow/workspace/saved \\\n",
        "    --pipeline_config_path /content/explore-kata-phone/Tensorflow/workspace/models/my_ssd_mobnet/pipeline.config"
      ],
      "metadata": {
        "id": "4tbssiPA5OD0"
      },
      "execution_count": null,
      "outputs": []
    },
    {
      "cell_type": "code",
      "metadata": {
        "id": "tzlPcDPLuWye"
      },
      "source": [
        "!zip -r /content/explore-kata-phone/Tensorflow/workspace/saved.zip /content/explore-kata-phone/Tensorflow/workspace/saved"
      ],
      "execution_count": null,
      "outputs": []
    },
    {
      "cell_type": "code",
      "source": [
        "!python /content/explore-kata-phone/Tensorflow/models/research/object_detection/export_tflite_graph_tf2.py \\\n",
        "    --trained_checkpoint_dir /content/explore-kata-phone/Tensorflow/workspace/models/my_ssd_mobnet \\\n",
        "    --output_directory /content/explore-kata-phone/Tensorflow/workspace/Graph \\\n",
        "    --pipeline_config_path /content/explore-kata-phone/Tensorflow/workspace/models/my_ssd_mobnet/pipeline.config"
      ],
      "metadata": {
        "id": "xMNRUrwiO_3v"
      },
      "execution_count": null,
      "outputs": []
    },
    {
      "cell_type": "code",
      "source": [
        "!zip -r /content/explore-kata-phone/Tensorflow/workspace/graph.zip /content/explore-kata-phone/Tensorflow/workspace/Graph"
      ],
      "metadata": {
        "id": "jUKEWCAy6J2p"
      },
      "execution_count": null,
      "outputs": []
    },
    {
      "cell_type": "markdown",
      "source": [
        "### Convert to TFlite"
      ],
      "metadata": {
        "id": "Dho8xkuEAHc8"
      }
    },
    {
      "cell_type": "code",
      "source": [
        "!pip install tflite-support-nightly\n"
      ],
      "metadata": {
        "id": "dknxgZwPBYfE"
      },
      "execution_count": null,
      "outputs": []
    },
    {
      "cell_type": "code",
      "source": [
        "!sudo apt-get install libportaudio2\n"
      ],
      "metadata": {
        "id": "hUVDQGAyKpV_"
      },
      "execution_count": null,
      "outputs": []
    },
    {
      "cell_type": "code",
      "source": [
        "pip install --upgrade flatbuffers==1.12\n"
      ],
      "metadata": {
        "id": "-t8b-ZdjK-i5"
      },
      "execution_count": null,
      "outputs": []
    },
    {
      "cell_type": "code",
      "source": [
        "import matplotlib\n",
        "import matplotlib.pyplot as plt\n",
        "\n",
        "import os\n",
        "import random\n",
        "import io\n",
        "import imageio\n",
        "import glob\n",
        "import scipy.misc\n",
        "import numpy as np\n",
        "from six import BytesIO\n",
        "from PIL import Image, ImageDraw, ImageFont\n",
        "from IPython.display import display, Javascript\n",
        "from IPython.display import Image as IPyImage\n",
        "\n",
        "import tensorflow as tf\n",
        "\n",
        "from object_detection.utils import label_map_util\n",
        "from object_detection.utils import config_util\n",
        "from object_detection.utils import visualization_utils as viz_utils\n",
        "from object_detection.utils import colab_utils\n",
        "from object_detection.utils import config_util\n",
        "from object_detection.builders import model_builder\n",
        "\n",
        "from tflite_support import flatbuffers\n",
        "from tflite_support import flatbuffers\n",
        "from tflite_support import metadata as _metadata\n",
        "from tflite_support import metadata_schema_py_generated as _metadata_fb\n",
        "\n",
        "%matplotlib inline"
      ],
      "metadata": {
        "id": "ks9ku4oNAKqb"
      },
      "execution_count": null,
      "outputs": []
    },
    {
      "cell_type": "code",
      "source": [
        "_TFLITE_MODEL_PATH = \"/content/explore-kata-phone/Tensorflow/workspace/model.tflite\"\n",
        "saved_model_dir = '/content/explore-kata-phone/Tensorflow/workspace/Graph/saved_model'\n",
        "\n",
        "converter = tf.lite.TFLiteConverter.from_saved_model(saved_model_dir)\n",
        "converter.optimizations = [tf.lite.Optimize.DEFAULT]\n",
        "tflite_model = converter.convert()\n",
        "\n",
        "with open(_TFLITE_MODEL_PATH, 'wb') as f:\n",
        "  f.write(tflite_model)"
      ],
      "metadata": {
        "id": "8zcg_gMgAbP8"
      },
      "execution_count": null,
      "outputs": []
    },
    {
      "cell_type": "code",
      "source": [
        "_ODT_LABEL_MAP_PATH = '/content/explore-kata-phone/Tensorflow/workspace/annotations/label_map.pbtxt'\n",
        "_TFLITE_LABEL_PATH = \"/content/explore-kata-phone/Tensorflow/workspace/tflite_label_map.txt\"\n",
        "\n",
        "category_index = label_map_util.create_category_index_from_labelmap(\n",
        "    _ODT_LABEL_MAP_PATH)\n",
        "f = open(_TFLITE_LABEL_PATH, 'w')\n",
        "for class_id in range(1, 6):\n",
        "  if class_id not in category_index:\n",
        "    f.write('???\\n')\n",
        "    continue\n",
        "  name = category_index[class_id]['name']\n",
        "  f.write(name+'\\n')\n",
        "f.close()"
      ],
      "metadata": {
        "id": "XN0c0iNtAZVO"
      },
      "execution_count": null,
      "outputs": []
    },
    {
      "cell_type": "code",
      "source": [
        "from tflite_support.metadata_writers import object_detector\n",
        "from tflite_support.metadata_writers import writer_utils\n",
        "\n",
        "_TFLITE_MODEL_WITH_METADATA_PATH = \"/content/explore-kata-phone/Tensorflow/workspace/model_with_metadata.tflite\"\n",
        "\n",
        "writer = object_detector.MetadataWriter.create_for_inference(\n",
        "    writer_utils.load_file(_TFLITE_MODEL_PATH), input_norm_mean=[127.5], \n",
        "    input_norm_std=[127.5], label_file_paths=[_TFLITE_LABEL_PATH])\n",
        "writer_utils.save_file(writer.populate(), _TFLITE_MODEL_WITH_METADATA_PATH)"
      ],
      "metadata": {
        "id": "0e7-_Te6BPo1"
      },
      "execution_count": null,
      "outputs": []
    },
    {
      "cell_type": "code",
      "source": [
        "from tflite_support import metadata\n",
        "\n",
        "displayer = metadata.MetadataDisplayer.with_model_file(_TFLITE_MODEL_WITH_METADATA_PATH)\n",
        "print(\"Metadata populated:\")\n",
        "print(displayer.get_metadata_json())\n",
        "print(\"=============================\")\n",
        "print(\"Associated file(s) populated:\")\n",
        "print(displayer.get_packed_associated_file_list())"
      ],
      "metadata": {
        "id": "gvL0C0a0OvbU"
      },
      "execution_count": null,
      "outputs": []
    },
    {
      "cell_type": "markdown",
      "source": [
        "### Download Outputs"
      ],
      "metadata": {
        "id": "QKFRKcPGKL3N"
      }
    },
    {
      "cell_type": "code",
      "source": [
        "from google.colab import files\n",
        "files.download('/content/explore-kata-phone/Tensorflow/workspace/models.zip') "
      ],
      "metadata": {
        "id": "LlANsjR5epKg"
      },
      "execution_count": null,
      "outputs": []
    },
    {
      "cell_type": "code",
      "source": [
        "from google.colab import files\n",
        "files.download('/content/explore-kata-phone/Tensorflow/workspace/saved.zip') "
      ],
      "metadata": {
        "id": "6_8TkekXet2P"
      },
      "execution_count": null,
      "outputs": []
    },
    {
      "cell_type": "code",
      "source": [
        "from google.colab import files\n",
        "files.download('/content/explore-kata-phone/Tensorflow/workspace/graph.zip') "
      ],
      "metadata": {
        "id": "ArrH02FzeyPF"
      },
      "execution_count": null,
      "outputs": []
    },
    {
      "cell_type": "code",
      "source": [
        "from google.colab import files\n",
        "files.download('/content/explore-kata-phone/Tensorflow/workspace/model.tflite') "
      ],
      "metadata": {
        "id": "Lbnu2a88e43X"
      },
      "execution_count": null,
      "outputs": []
    },
    {
      "cell_type": "code",
      "source": [
        "from google.colab import files\n",
        "files.download('/content/explore-kata-phone/Tensorflow/workspace/model_with_metadata.tflite') "
      ],
      "metadata": {
        "id": "9l6ndGO93MZ3"
      },
      "execution_count": null,
      "outputs": []
    }
  ]
}